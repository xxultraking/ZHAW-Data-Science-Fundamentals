{
 "cells": [
  {
   "cell_type": "markdown",
   "metadata": {},
   "source": [
    "# <div align=\"center\"> DSF 2. Week: Jupyter Notebook "
   ]
  },
  {
   "cell_type": "markdown",
   "metadata": {},
   "source": [
    "## 1. Introduction\n",
    "\n",
    "Jupyter Notebook is an open source web application that you can use to create and share documents that contain live code, equations, visualizations, and text.\n",
    "\n",
    "### 1.1 Cells:\n",
    "\n",
    "Cells form the body of a notebook. There are two main cells:\n",
    "\n",
    "+ A **code cell** contains code to be executed in the kernel (in our case Python code). When the cell is run, the notebook displays the output below the code cell that generated it.\n",
    "\n",
    "**Example:**"
   ]
  },
  {
   "cell_type": "code",
   "execution_count": 1,
   "metadata": {},
   "outputs": [
    {
     "name": "stdout",
     "output_type": "stream",
     "text": [
      "Hello world\n"
     ]
    }
   ],
   "source": [
    "# This is a Python cell\n",
    "print('Hello world')"
   ]
  },
  {
   "cell_type": "markdown",
   "metadata": {},
   "source": [
    "+ A **Markdown cell** contains text formatted using Markdown and displays its output in-place when the Markdown cell is run.\n",
    "\n",
    "This cell is its own example.\n",
    "\n",
    "In this part of the exercise you will focus on Markdown cells. We will give you a small cheatsheet with the basics commands and then you will be on your own!\n",
    "\n",
    "**You can find an Appendix at the end of this notebook containing a cell with a lot of different text styles to inspire you.**\n",
    "\n",
    "### 1.2 Modes\n",
    "\n",
    "First you should also know that there are 2 modes when working with Jupyter Notebooks: **Command mode** and **Edit mode**.\n",
    "\n",
    "**Edit mode:** To enter in Edit mode, you have to click on a cell (once on a code cell, twice on a Markdown cell) or press **Enter**. Edit mode can be identified by the **green border** around the cell. When you are in Edit mode, you can type in the cells.\n",
    "\n",
    "**Command mode:** To enter the Command mode press ESC (when in Edit mode) or click in the blank space outside the cell (on its left). Command mode can be identified by the **blue border** around the cell. When you are in Command mode, you can edit your notebook but you can't type in the cells."
   ]
  },
  {
   "cell_type": "markdown",
   "metadata": {},
   "source": [
    "## 2. Cheatsheet\n",
    "\n",
    "### 2.1 Shortcuts in both modes (Edit and Command)\n",
    "\n",
    "+ `Ctrl + Enter` run selected cells.\n",
    "+ `Shift + Enter` run the current cell, select below.\n",
    "+ `Alt + Enter` run the current cell, insert cell below.\n",
    "+ `Ctrl + s` save and checkpoint.\n",
    "\n",
    "### 2.2 Shortcuts in Command mode\n",
    "\n",
    "+ `Enter` go to Edit mode.\n",
    "+ `H` show all shortcuts. **<-- Very useful to learn new shortcuts**\n",
    "+ `A` insert cell above.\n",
    "+ `B` insert cell below.\n",
    "+ `Y` change cell type to **Code**.\n",
    "+ `M` change cell type to **Markdown**.\n",
    "+ `D + D` delete selected cells.\n",
    "+ `P` open the command palette. **<-- Very useful to search commands by name**\n",
    "\n",
    "### 2.3 Shortcuts in Edit mode\n",
    "\n",
    "+ `Esc` go to Command mode.\n",
    "+ `Tab` code completion (code cell) or indent (Markdown cell)."
   ]
  },
  {
   "cell_type": "markdown",
   "metadata": {},
   "source": [
    "### ---\n",
    "## 3. Appendix: Markdown"
   ]
  },
  {
   "cell_type": "markdown",
   "metadata": {},
   "source": [
    "## Headers"
   ]
  },
  {
   "cell_type": "markdown",
   "metadata": {},
   "source": [
    "# This is a big header\n",
    "## This is a not as big header.\n",
    "### This is a not as small header.\n",
    "#### This is a small header."
   ]
  },
  {
   "cell_type": "markdown",
   "metadata": {},
   "source": [
    "## Emphasis"
   ]
  },
  {
   "cell_type": "markdown",
   "metadata": {},
   "source": [
    "*This text will be italic*\n",
    "\n",
    "_This will also be italic_\n",
    "\n",
    "**This text will be bold**\n",
    "\n",
    "__This will also be bold__\n",
    "\n",
    "_You **can** combine them_"
   ]
  },
  {
   "cell_type": "markdown",
   "metadata": {},
   "source": [
    "## Lists"
   ]
  },
  {
   "cell_type": "markdown",
   "metadata": {},
   "source": [
    "+ This\n",
    "- Is\n",
    "* An\n",
    "    + Unordered\n",
    "        - List\n",
    "        \n",
    "1. This\n",
    "2. Is\n",
    "    3. An\n",
    "        4. Ordered\n",
    "            5. List"
   ]
  },
  {
   "cell_type": "markdown",
   "metadata": {},
   "source": [
    "## Blockquotes"
   ]
  },
  {
   "cell_type": "markdown",
   "metadata": {},
   "source": [
    "As everybody knows :\n",
    "\n",
    ">  A programmer is a machine that turns coffee into code."
   ]
  },
  {
   "cell_type": "markdown",
   "metadata": {},
   "source": [
    "## Inline code"
   ]
  },
  {
   "cell_type": "markdown",
   "metadata": {},
   "source": [
    "You can insert `print('code')` while writing text!\n",
    "\n",
    "If you want to write multiple lines of code:\n",
    "\n",
    "```\n",
    "#This is supposed to be code\n",
    "while True:\n",
    "    print('When is the weekend coming?')\n",
    "```"
   ]
  },
  {
   "cell_type": "markdown",
   "metadata": {},
   "source": [
    "## Latex"
   ]
  },
  {
   "cell_type": "markdown",
   "metadata": {},
   "source": [
    "\n",
    "$f(x) = f(a) + f'(a)(x^2 - a) + O(\\text{something even more complex}) $"
   ]
  }
 ],
 "metadata": {
  "kernelspec": {
   "display_name": "Python 3",
   "language": "python",
   "name": "python3"
  },
  "language_info": {
   "codemirror_mode": {
    "name": "ipython",
    "version": 3
   },
   "file_extension": ".py",
   "mimetype": "text/x-python",
   "name": "python",
   "nbconvert_exporter": "python",
   "pygments_lexer": "ipython3",
   "version": "3.11.7"
  }
 },
 "nbformat": 4,
 "nbformat_minor": 5
}
