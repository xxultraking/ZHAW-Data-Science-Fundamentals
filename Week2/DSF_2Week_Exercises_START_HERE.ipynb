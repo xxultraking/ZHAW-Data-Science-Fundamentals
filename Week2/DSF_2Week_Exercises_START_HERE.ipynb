{
 "cells": [
  {
   "cell_type": "markdown",
   "metadata": {},
   "source": [
    "## DSF Week 2 Exercises - Introduction"
   ]
  },
  {
   "attachments": {},
   "cell_type": "markdown",
   "metadata": {},
   "source": [
    "The exercises will mostly take place via Jupyter Notebooks. (If you prefer you can also code in a normal editor and execute the script, up to you, but the instructions are contained in a .ipynb file)\n",
    "\n",
    "In this file you find 3 Notebooks, one contains information about Jupyter Notebook functionalities and can serve as a cheatsheet (DSF_2Week_JupyterCheatsheet.ipynb), the second one contains the exercises in Python (DSf_2Week_Python.ipynb) and the last one its solutions (I highly reccomend to check the solutions as a check only **after** you tried yourself, otherwise the purpose of the exercise is lost!). \n",
    "\n",
    "\n",
    "Let's start!\n",
    "\n",
    "#### 1. Getting familiar with Jupyter Notebook functionalities. \n",
    "\n",
    "Open **DSF_2Week_Jupyter.ipynb** and start exploring how a notebook works. You can always use this as a general reference.\n",
    "\n",
    "#### 2.  Train your Python \n",
    "\n",
    "Open **DSF_2Week_Python.ipynb**. This notebook offers an overview of the basic main concepts explained in the class. At the end of every topic there is quick-check-exercise. At the very  end of the notebook (Section 8) some more articulated excercises are presented. \n",
    "\n",
    "If you think you need more exercise, I encourage you to make use of freely available resources on the topic. \n",
    "For example https://www.w3schools.com/python/exercise.asp offers many browser-based exercises and quizzes. \n"
   ]
  }
 ],
 "metadata": {
  "kernelspec": {
   "display_name": "Python 3",
   "language": "python",
   "name": "python3"
  },
  "language_info": {
   "codemirror_mode": {
    "name": "ipython",
    "version": 3
   },
   "file_extension": ".py",
   "mimetype": "text/x-python",
   "name": "python",
   "nbconvert_exporter": "python",
   "pygments_lexer": "ipython3",
   "version": "3.11.7"
  }
 },
 "nbformat": 4,
 "nbformat_minor": 4
}
