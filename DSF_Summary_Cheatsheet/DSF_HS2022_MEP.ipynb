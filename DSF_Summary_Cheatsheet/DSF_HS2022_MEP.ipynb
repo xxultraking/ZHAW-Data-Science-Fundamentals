{
 "cells": [
  {
   "cell_type": "markdown",
   "metadata": {},
   "source": [
    "# MEP HS2022 Data Science Fundamentals"
   ]
  },
  {
   "cell_type": "markdown",
   "metadata": {},
   "source": [
    "### Task 1a) Modeling"
   ]
  },
  {
   "cell_type": "markdown",
   "metadata": {},
   "source": [
    "Answer A3"
   ]
  },
  {
   "cell_type": "code",
   "execution_count": 6,
   "metadata": {},
   "outputs": [
    {
     "ename": "NameError",
     "evalue": "name 'X' is not defined",
     "output_type": "error",
     "traceback": [
      "\u001b[0;31m---------------------------------------------------------------------------\u001b[0m",
      "\u001b[0;31mNameError\u001b[0m                                 Traceback (most recent call last)",
      "Cell \u001b[0;32mIn[6], line 6\u001b[0m\n\u001b[1;32m      4\u001b[0m \u001b[38;5;66;03m# Assuming X and Y are defined elsewhere and properly formatted\u001b[39;00m\n\u001b[1;32m      5\u001b[0m regr \u001b[38;5;241m=\u001b[39m SGDRegressor(max_iter\u001b[38;5;241m=\u001b[39m\u001b[38;5;241m1000\u001b[39m, eta0\u001b[38;5;241m=\u001b[39m\u001b[38;5;241m0.1\u001b[39m)\n\u001b[0;32m----> 6\u001b[0m regr\u001b[38;5;241m.\u001b[39mfit(\u001b[43mX\u001b[49m, Y)\n\u001b[1;32m      8\u001b[0m \u001b[38;5;66;03m# Use the predict method for generating predictions\u001b[39;00m\n\u001b[1;32m      9\u001b[0m Ypred \u001b[38;5;241m=\u001b[39m regr\u001b[38;5;241m.\u001b[39mcoef_\u001b[38;5;241m*\u001b[39mX \u001b[38;5;241m+\u001b[39m regr\u001b[38;5;241m.\u001b[39mintercept_\n",
      "\u001b[0;31mNameError\u001b[0m: name 'X' is not defined"
     ]
    }
   ],
   "source": [
    "import matplotlib.pyplot as plt\n",
    "from sklearn.linear_model import SGDRegressor\n",
    "\n",
    "# Assuming X and Y are defined elsewhere and properly formatted\n",
    "regr = SGDRegressor(max_iter=1000, eta0=0.1)\n",
    "regr.fit(X, Y)\n",
    "\n",
    "# Use the predict method for generating predictions\n",
    "Ypred = regr.coef_*X + regr.intercept_\n",
    "\n",
    "plt.scatter(X, Y, color=\"blue\")\n",
    "plt.plot(X, Ypred, color=\"red\")\n",
    "plt.xlabel(\"X\")\n",
    "plt.ylabel(\"Y\")\n",
    "plt.show()"
   ]
  },
  {
   "cell_type": "markdown",
   "metadata": {},
   "source": [
    "### Neural Networks, Task 1e) - Answer E2"
   ]
  },
  {
   "cell_type": "code",
   "execution_count": 7,
   "metadata": {},
   "outputs": [
    {
     "name": "stdout",
     "output_type": "stream",
     "text": [
      "Epoch 1/5\n",
      "14/14 [==============================] - 1s 14ms/step - loss: 0.6815 - accuracy: 0.5376 - val_loss: 0.6208 - val_accuracy: 0.7343\n",
      "Epoch 2/5\n",
      "14/14 [==============================] - 0s 3ms/step - loss: 0.6023 - accuracy: 0.8451 - val_loss: 0.5642 - val_accuracy: 0.8811\n",
      "Epoch 3/5\n",
      "14/14 [==============================] - 0s 4ms/step - loss: 0.5506 - accuracy: 0.8850 - val_loss: 0.5189 - val_accuracy: 0.9021\n",
      "Epoch 4/5\n",
      "14/14 [==============================] - 0s 4ms/step - loss: 0.5072 - accuracy: 0.8991 - val_loss: 0.4780 - val_accuracy: 0.9161\n",
      "Epoch 5/5\n",
      "14/14 [==============================] - 0s 4ms/step - loss: 0.4670 - accuracy: 0.9108 - val_loss: 0.4410 - val_accuracy: 0.9231\n"
     ]
    }
   ],
   "source": [
    "import tensorflow as tf\n",
    "from sklearn import datasets\n",
    "from sklearn.model_selection import train_test_split\n",
    "from sklearn.preprocessing import StandardScaler\n",
    "\n",
    "# cancer_y = class, then 0 = malignant tumor, 1 = benign tumor\n",
    "\n",
    "cancer_X, cancer_y = datasets.load_breast_cancer(return_X_y=True)\n",
    "cancer_X_train, cancer_X_val, cancer_y_train, cancer_y_val = train_test_split(cancer_X, cancer_y, test_size=0.25, random_state=42)\n",
    "\n",
    "sc = StandardScaler()\n",
    "cancer_X_train = sc.fit_transform(cancer_X_train)\n",
    "cancer_X_val = sc.transform(cancer_X_val)\n",
    "\n",
    "# input = all 30 features/variables of the dataset and predict the most likely class a new sample belongs. In addition, it will be a fully connecated neural network with 4 hidden layers.\n",
    "# Answer E1\n",
    "\n",
    "model = tf.keras.Sequential([\n",
    "    tf.keras.layers.Dense(64, activation=\"relu\", input_dim = 30),\n",
    "    tf.keras.layers.Dense(32, activation=\"relu\"), # ReLU = Rectified Linear Unit, activates inputs greater than 0 witout bounds, fast training and reduces likelihood of vanishing gradients.\n",
    "    tf.keras.layers.Dense(16, activation=\"relu\"),\n",
    "    tf.keras.layers.Dense(8, activation=\"relu\"),\n",
    "    tf.keras.layers.Dense(1, activation=\"sigmoid\") # Output layer with Sigmoid Function, the function maps input values to a range between 0-1 - used for binary classification\n",
    "])\n",
    "\n",
    "model.compile(loss=tf.keras.losses.BinaryCrossentropy(from_logits=False),\n",
    "              optimizer=\"sgd\", metrics=[\"accuracy\"])\n",
    "\n",
    "history = model.fit(cancer_X_train, cancer_y_train, epochs=5,\n",
    "                    validation_data=(cancer_X_val, cancer_y_val))"
   ]
  },
  {
   "cell_type": "code",
   "execution_count": null,
   "metadata": {},
   "outputs": [],
   "source": []
  }
 ],
 "metadata": {
  "kernelspec": {
   "display_name": "Python 3",
   "language": "python",
   "name": "python3"
  },
  "language_info": {
   "codemirror_mode": {
    "name": "ipython",
    "version": 3
   },
   "file_extension": ".py",
   "mimetype": "text/x-python",
   "name": "python",
   "nbconvert_exporter": "python",
   "pygments_lexer": "ipython3",
   "version": "3.11.7"
  }
 },
 "nbformat": 4,
 "nbformat_minor": 2
}
