{
 "cells": [
  {
   "cell_type": "markdown",
   "metadata": {},
   "source": [
    "# MEP HS2022 Data Science Fundamentals"
   ]
  },
  {
   "cell_type": "markdown",
   "metadata": {},
   "source": [
    "### Task 1a) Modeling"
   ]
  },
  {
   "cell_type": "markdown",
   "metadata": {},
   "source": [
    "Answer A3"
   ]
  },
  {
   "cell_type": "code",
   "execution_count": null,
   "metadata": {},
   "outputs": [],
   "source": [
    "import matplotlib.pyplot as plt\n",
    "from sklearn.linear_model import SGDRegressor\n",
    "\n",
    "# Assuming X and Y are defined elsewhere and properly formatted\n",
    "regr = SGDRegressor(max_iter=1000, eta0=0.1)\n",
    "regr.fit(X, Y)\n",
    "\n",
    "# Use the predict method for generating predictions\n",
    "Ypred = regr.coef_*X + regr.intercept_\n",
    "\n",
    "plt.scatter(X, Y, color=\"blue\")\n",
    "plt.plot(X, Ypred, color=\"red\")\n",
    "plt.xlabel(\"X\")\n",
    "plt.ylabel(\"Y\")\n",
    "plt.show()"
   ]
  },
  {
   "cell_type": "markdown",
   "metadata": {},
   "source": [
    "### Task 1c) Data organization with SQL - sqlite3"
   ]
  },
  {
   "cell_type": "markdown",
   "metadata": {},
   "source": [
    "Answer C4"
   ]
  },
  {
   "cell_type": "code",
   "execution_count": null,
   "metadata": {},
   "outputs": [],
   "source": [
    "# The start and the end of the code is Python specific, when using sqlite3\n",
    "# sql_query contains the SQL-Code which is usually directly typed in the DBMS\n",
    "import pandas as pd # Very useful for large amount of data stored in tables\n",
    "import sqlite3 # Imports the SQL lite3 library into Python\n",
    "\n",
    "conn = sqlite3.connect(\"transactions.db\") # Connects the DB tables\n",
    "\n",
    "sql_query = \"\"\"SELECT \n",
    "                T1.CustomerID, T1.ContactName, T1.Address, T1.City,\n",
    "                T1.PostalCode, T1.Country, T2.OrderID, T2.OrderDate\n",
    "                FROM customers AS T1\n",
    "                LEFT JOIN orders AS T2\n",
    "                ON T1.CustomerID = T2.CustomerID\n",
    "                WHERE Country = \"France\"\n",
    "                AND T1.City <> \"Nantes\"\n",
    "                ORDER BY T1.ContactName\"\"\"\n",
    "\n",
    "data = pd.read_sql(sql_query, con=conn)\n",
    "data"
   ]
  },
  {
   "cell_type": "markdown",
   "metadata": {},
   "source": [
    "### Neural Networks, Task 1e) - Answer E2"
   ]
  },
  {
   "cell_type": "code",
   "execution_count": 1,
   "metadata": {},
   "outputs": [
    {
     "name": "stderr",
     "output_type": "stream",
     "text": [
      "2024-01-30 20:11:46.067665: I tensorflow/tsl/cuda/cudart_stub.cc:28] Could not find cuda drivers on your machine, GPU will not be used.\n",
      "2024-01-30 20:11:49.213754: I tensorflow/tsl/cuda/cudart_stub.cc:28] Could not find cuda drivers on your machine, GPU will not be used.\n",
      "2024-01-30 20:11:49.214971: I tensorflow/core/platform/cpu_feature_guard.cc:182] This TensorFlow binary is optimized to use available CPU instructions in performance-critical operations.\n",
      "To enable the following instructions: AVX2 FMA, in other operations, rebuild TensorFlow with the appropriate compiler flags.\n",
      "2024-01-30 20:11:55.472788: W tensorflow/compiler/tf2tensorrt/utils/py_utils.cc:38] TF-TRT Warning: Could not find TensorRT\n"
     ]
    },
    {
     "name": "stdout",
     "output_type": "stream",
     "text": [
      "Epoch 1/5\n",
      "14/14 [==============================] - 1s 14ms/step - loss: 0.7119 - accuracy: 0.4624 - val_loss: 0.6596 - val_accuracy: 0.6014\n",
      "Epoch 2/5\n",
      "14/14 [==============================] - 0s 4ms/step - loss: 0.6410 - accuracy: 0.6667 - val_loss: 0.5868 - val_accuracy: 0.7622\n",
      "Epoch 3/5\n",
      "14/14 [==============================] - 0s 4ms/step - loss: 0.5710 - accuracy: 0.7535 - val_loss: 0.5202 - val_accuracy: 0.8322\n",
      "Epoch 4/5\n",
      "14/14 [==============================] - 0s 4ms/step - loss: 0.5033 - accuracy: 0.8052 - val_loss: 0.4494 - val_accuracy: 0.8741\n",
      "Epoch 5/5\n",
      "14/14 [==============================] - 0s 3ms/step - loss: 0.4380 - accuracy: 0.8756 - val_loss: 0.3879 - val_accuracy: 0.9091\n"
     ]
    }
   ],
   "source": [
    "import tensorflow as tf\n",
    "from sklearn import datasets\n",
    "from sklearn.model_selection import train_test_split\n",
    "from sklearn.preprocessing import StandardScaler\n",
    "\n",
    "# cancer_y = class, then 0 = malignant tumor, 1 = benign tumor\n",
    "\n",
    "cancer_X, cancer_y = datasets.load_breast_cancer(return_X_y=True)\n",
    "cancer_X_train, cancer_X_val, cancer_y_train, cancer_y_val = train_test_split(cancer_X, cancer_y, test_size=0.25, random_state=42)\n",
    "\n",
    "sc = StandardScaler()\n",
    "cancer_X_train = sc.fit_transform(cancer_X_train)\n",
    "cancer_X_val = sc.transform(cancer_X_val)\n",
    "\n",
    "# input = all 30 features/variables of the dataset and predict the most likely class a new sample belongs. In addition, it will be a fully connecated neural network with 4 hidden layers.\n",
    "# Answer E1\n",
    "\n",
    "model = tf.keras.Sequential([\n",
    "    tf.keras.layers.Dense(64, activation=\"relu\", input_dim = 30),\n",
    "    tf.keras.layers.Dense(32, activation=\"relu\"), # ReLU = Rectified Linear Unit, activates inputs greater than 0 witout bounds, fast training and reduces likelihood of vanishing gradients.\n",
    "    tf.keras.layers.Dense(16, activation=\"relu\"),\n",
    "    tf.keras.layers.Dense(8, activation=\"relu\"),\n",
    "    tf.keras.layers.Dense(1, activation=\"sigmoid\") # Output layer with Sigmoid Function, the function maps input values to a range between 0-1 - used for binary classification\n",
    "])\n",
    "\n",
    "model.compile(loss=tf.keras.losses.BinaryCrossentropy(from_logits=False),\n",
    "              optimizer=\"sgd\", metrics=[\"accuracy\"])\n",
    "\n",
    "history = model.fit(cancer_X_train, cancer_y_train, epochs=5,\n",
    "                    validation_data=(cancer_X_val, cancer_y_val))"
   ]
  },
  {
   "cell_type": "code",
   "execution_count": null,
   "metadata": {},
   "outputs": [],
   "source": []
  }
 ],
 "metadata": {
  "kernelspec": {
   "display_name": "Python 3",
   "language": "python",
   "name": "python3"
  },
  "language_info": {
   "codemirror_mode": {
    "name": "ipython",
    "version": 3
   },
   "file_extension": ".py",
   "mimetype": "text/x-python",
   "name": "python",
   "nbconvert_exporter": "python",
   "pygments_lexer": "ipython3",
   "version": "3.11.7"
  }
 },
 "nbformat": 4,
 "nbformat_minor": 2
}
